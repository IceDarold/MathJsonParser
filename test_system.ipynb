{
 "cells": [
  {
   "cell_type": "markdown",
   "metadata": {},
   "source": [
    "# MathJsonParser Testing System\n",
    "\n",
    "This notebook integrates the MathIR parser to run tests on all JSON test files and generate a CSV output with task names and computed answers.\n",
    "\n",
    "## Requirements\n",
    "\n",
    "Make sure you have installed the required packages:\n",
    "\n",
    "```bash\n",
    "pip install pydantic sympy pandas\n",
    "```\n",
    "\n",
    "## How to Run\n",
    "\n",
    "1. Ensure the `mathir_parser` module is in your Python path\n",
    "2. Run all cells in this notebook\n",
    "3. The output CSV file `test_results.csv` will be generated in the current directory"
   ]
  },
  {
   "cell_type": "code",
   "execution_count": null,
   "metadata": {},
   "outputs": [],
   "source": [
    "# Import required modules\n",
    "import json\n",
    "import os\n",
    "import sys\n",
    "import pandas as pd\n",
    "from pathlib import Path\n",
    "\n",
    "# Add the project root to Python path to import mathir_parser\n",
    "project_root = Path.cwd()\n",
    "if str(project_root) not in sys.path:\n",
    "    sys.path.insert(0, str(project_root))\n",
    "\n",
    "from mathir_parser.main import MathIR, run_mathir"
   ]
  },
  {
   "cell_type": "code",
   "execution_count": null,
   "metadata": {},
   "outputs": [],
   "source": [
    "# Helper function to load MathIR from JSON file\n",
    "def load_mathir_from_file(filepath: str) -> MathIR:\n",
    "    with open(filepath, 'r', encoding='utf-8') as f:\n",
    "        data = json.load(f)\n",
    "    return MathIR.model_validate(data)"
   ]
  },
  {
   "cell_type": "code",
   "execution_count": null,
   "metadata": {},
   "outputs": [],
   "source": [
    "# Find all test JSON files in the tests directory\n",
    "tests_dir = Path('tests')\n",
    "json_files = list(tests_dir.glob('*.json'))\n",
    "\n",
    "print(f\"Found {len(json_files)} test files:\")\n",
    "for f in json_files:\n",
    "    print(f\"- {f.name}\")"
   ]
  },
  {
   "cell_type": "code",
   "execution_count": null,
   "metadata": {},
   "outputs": [],
   "source": [
    "# Process each test file and collect results\n",
    "results = []\n",
    "\n",
    "for json_file in json_files:\n",
    "    try:\n",
    "        # Load MathIR from file\n",
    "        ir = load_mathir_from_file(str(json_file))\n",
    "        \n",
    "        # Run computation\n",
    "        computation_results = run_mathir(ir)\n",
    "        \n",
    "        # Use filename as task name (without .json extension)\n",
    "        task_name = json_file.stem\n",
    "        \n",
    "        # Convert results to string representation\n",
    "        # If there are multiple results, join them\n",
    "        if computation_results:\n",
    "            answer_str = '; '.join(f\"{k}: {str(v)}\" for k, v in computation_results.items())\n",
    "        else:\n",
    "            answer_str = \"No results\"\n",
    "        \n",
    "        results.append({\n",
    "            'task': task_name,\n",
    "            'answer': answer_str\n",
    "        })\n",
    "        \n",
    "        print(f\"Processed {task_name}: {answer_str}\")\n",
    "        \n",
    "    except Exception as e:\n",
    "        print(f\"Error processing {json_file.name}: {str(e)}\")\n",
    "        results.append({\n",
    "            'task': json_file.stem,\n",
    "            'answer': f\"Error: {str(e)}\"\n",
    "        })\n",
    "\n",
    "print(f\"\\nProcessed {len(results)} tasks total\")"
   ]
  },
  {
   "cell_type": "code",
   "execution_count": null,
   "metadata": {},
   "outputs": [],
   "source": [
    "# Create DataFrame and save to CSV\n",
    "df = pd.DataFrame(results)\n",
    "output_file = 'test_results.csv'\n",
    "df.to_csv(output_file, index=False)\n",
    "\n",
    "print(f\"Results saved to {output_file}\")\n",
    "print(\"\\nPreview of results:\")\n",
    "print(df.head())"
   ]
  },
  {
   "cell_type": "code",
   "execution_count": null,
   "metadata": {},
   "outputs": [],
   "source": [
    "# Display the full CSV content\n",
    "print(\"\\nFull CSV content:\")\n",
    "with open(output_file, 'r') as f:\n",
    "    print(f.read())"
   ]
  }
 ],
 "metadata": {
  "kernelspec": {
   "display_name": "Python 3",
   "language": "python",
   "name": "python3"
  },
  "language_info": {
   "codemirror_mode": {
    "name": "ipython",
    "version": 3
   },
   "file_extension": ".py",
   "mimetype": "text/x-python",
   "name": "python",
   "nbconvert_exporter": "python",
   "pygments_lexer": "ipython3",
   "version": "3.8.5"
  }
 },
 "nbformat": 4,
 "nbformat_minor": 4
}